{
 "cells": [
  {
   "cell_type": "markdown",
   "id": "0c631fea",
   "metadata": {},
   "source": [
    "# iiit srishti task1\n",
    "\n",
    "# task:\n",
    "\n",
    "For GNU/Linux box:\n",
    "\n",
    "1. Create virtual environment [https://docs.python.org/3/library/venv.html](https://docs.python.org/3/library/venv.html),\n",
    "2. $ source /path/to/venv/bin/activate,\n",
    "3. Ensure you are inside your virtual environment.. before proceeding,\n",
    "4. Install ultralytics - follow steps given at [https://docs.ultralytics.com/quickstart/](https://docs.ultralytics.com/quickstart/),\n",
    "5. Test installation with the example given, and verify whether the trained model can recognise objects and also perform segmentation from the online image.\n",
    "\n",
    "BASICALLY,\n",
    "\n",
    "the task is to set up a virtual environment in python. we then need to activate it.\n",
    "\n",
    "next, we need to install the yolov8 package by ultralytics, and then we have to perform a simple segmentation task on an online image.\n",
    "\n",
    "# procedure\n",
    "\n",
    "although it has been given for gnu/linux(ubuntu/debian, different from arch linux, can be installed on windows), i will be finishing this task on windows itself using the git command line. \n",
    "\n",
    "why am i using the git command line?\n",
    "\n",
    "because the git commandine resembles bash(linux)\n",
    "\n",
    "later on, after my exams, i will be resolving the task using gnu/linux.\n",
    "\n",
    "NOW,\n",
    "\n",
    "firstly, i have to understand what a “virtual environment” in python actually is.\n",
    "\n",
    "## VIRTUAL ENVIRONMENTS\n",
    "\n",
    "“venv”\n",
    "\n",
    "basically, these are private spaces built right on top of the existing python installation(base installation), INDEPENDENT of OS python. when used from within a virtual environment, common installation tools such as [pip](https://pypi.org/project/pip/) will install Python packages into a virtual environment without needing to be told to do so explicitly.\n",
    "\n",
    "[PYTHON DOCS FOR VENV, CONTAINS BASIC OS APPROACH ALSO, AND ENVBUILDER CLASS. CHECK OUT.](https://docs.python.org/3/library/venv.html)\n",
    "\n",
    "Virtual environments are created by executing the venv module:\n",
    "\n",
    "python -m venv /path/to/new/virtual/environment"
   ]
  },
  {
   "cell_type": "code",
   "execution_count": null,
   "id": "04726fd0",
   "metadata": {},
   "outputs": [],
   "source": [
    "%%bash\n",
    "python -m venv C:\\Users\\madha\\iiitsrishti\\task1\\yolo8venv"
   ]
  },
  {
   "cell_type": "markdown",
   "id": "5db60160",
   "metadata": {},
   "source": [
    "![image.png](1a3a2872-148c-461f-922f-d7660dcba5b2.png)\n",
    "\n",
    "next, we activate it."
   ]
  },
  {
   "cell_type": "code",
   "execution_count": null,
   "id": "a7a4b874",
   "metadata": {},
   "outputs": [],
   "source": [
    "%%bash\n",
    "C:\\Users\\madha\\iiitsrishti\\task1\\yolo8venv\\Scripts\\activate\n"
   ]
  },
  {
   "cell_type": "markdown",
   "id": "bc131958",
   "metadata": {},
   "source": [
    "![image.png](image.png)\n",
    "\n",
    "# part 2\n",
    "\n",
    "### WHAT IS ULTRALYTICS, YOLOV8\n",
    "\n",
    "and what does it do\n",
    "\n",
    "ultralytics is a software company that specialises in making object detection/opencv models \n",
    "\n",
    "it also made yolov8\n",
    "\n",
    "WHAT, is yolov8\n",
    "\n",
    "so basically its a cutting edge new technology in cv and obj detection that Completely surpasses all the previous yolo models.\n",
    "\n",
    "![image.png](image%201.png)\n",
    "\n",
    "it perfectly optimises between speed and accuracy and offers a range of pre-trained models to cater to a particuar task.\n",
    "\n",
    "it is different from the previous versions, ie:\n",
    "\n",
    "“\n",
    "\n",
    "- **Advanced Backbone and Neck Architectures:** YOLOv8 employs state-of-the-art backbone and neck architectures, resulting in improved [feature extraction](https://www.ultralytics.com/glossary/feature-extraction) and [object detection](https://www.ultralytics.com/glossary/object-detection) performance.\n",
    "- **Anchor-free Split Ultralytics Head:** YOLOv8 adopts an anchor-free split Ultralytics head, which contributes to better accuracy and a more efficient detection process compared to anchor-based approaches.”\n",
    "\n",
    "it has a special backbone called “cspdarknet53” that helps it understand details in pictures. \n",
    "\n",
    "the neck connects the backbone to the decision-making part of the model, combining information from different levels of detail. \n",
    "\n",
    "this helps the model recognize objects of various sizes. \n",
    "\n",
    "the head of yolov8 uses an anchor-free approach, meaning it doesn't rely on predefined boxes to locate objects. \n",
    "\n",
    "this makes the detection process simpler and more accurate, allowing the model to work faster.\n",
    "\n",
    "SUPPORTED TASKS:\n",
    "\n",
    "object detection to more complex tasks like [instance segmentation](https://www.ultralytics.com/glossary/instance-segmentation), pose/keypoints detection, oriented object detection, and classification.\n",
    "\n",
    "### INSTALLING:"
   ]
  },
  {
   "cell_type": "code",
   "execution_count": null,
   "id": "40bb1e22",
   "metadata": {},
   "outputs": [],
   "source": [
    "%%bash\n",
    "pip install ultralytics"
   ]
  },
  {
   "cell_type": "markdown",
   "id": "3899c6ce",
   "metadata": {},
   "source": [
    "after that,"
   ]
  },
  {
   "cell_type": "code",
   "execution_count": null,
   "id": "bc9b1c64",
   "metadata": {},
   "outputs": [],
   "source": [
    "%%bash\n",
    "(yolo8venv) C:\\Users\\madha>notepad task.py"
   ]
  },
  {
   "cell_type": "markdown",
   "id": "93cb81e5",
   "metadata": {},
   "source": [
    "it opens a notepad"
   ]
  },
  {
   "cell_type": "code",
   "execution_count": null,
   "id": "11d488aa",
   "metadata": {},
   "outputs": [],
   "source": [
    "from ultralytics import YOLO\n",
    "\n",
    "model = YOLO('yolov8n-seg.pt')#other models also exist\n",
    "\n",
    "model.predict(source='https://ultralytics.com/images/bus.jpg', save=True, save_dir='output')\n",
    "#saves to file named output explicitly"
   ]
  },
  {
   "cell_type": "markdown",
   "id": "40411473",
   "metadata": {},
   "source": [
    "**OTHER MODELS:**\n",
    "\n",
    "- **yolov8n-seg.pt** — Nano segmentation\n",
    "- **yolov8s-seg.pt** — Small segmentation\n",
    "- **yolov8m-seg.pt** — Medium segmentation\n",
    "- **yolov8l-seg.pt** — Large segmentation\n",
    "- **yolov8x-seg.pt** — Extra Large segmentation\n",
    "\n",
    "AND THEN, we have to rn \n",
    "\n",
    "c:users:madha python task.py\n",
    "\n",
    "but thats wrong since our working directory is messed up. hence\n",
    "\n",
    "run:"
   ]
  },
  {
   "cell_type": "code",
   "execution_count": null,
   "id": "07574e33",
   "metadata": {},
   "outputs": [],
   "source": [
    "%%bash\n",
    "cd iiitsrishti/task1/yolo8venv\n",
    "(yolo8venv) C:\\Users\\madha\\iiitsrishti\\task1\\yolo8venv>python task.py"
   ]
  },
  {
   "cell_type": "code",
   "execution_count": null,
   "id": "bd9294dd",
   "metadata": {},
   "outputs": [],
   "source": [
    "%%bash\n",
    "(yolo8venv) C:\\Users\\madha>pwd\n",
    "/c/Users/madha\n",
    "\n",
    "(yolo8venv) C:\\Users\\madha>cd\n",
    "C:\\Users\\madha\n",
    "\n",
    "(yolo8venv) C:\\Users\\madha>cd iiitsrishti/task1/yolo8venv\n",
    "\n",
    "(yolo8venv) C:\\Users\\madha\\iiitsrishti\\task1\\yolo8venv>python task.py\n",
    "Creating new Ultralytics Settings v0.0.6 file\n",
    "View Ultralytics Settings with 'yolo settings' or at 'C:\\Users\\madha\\AppData\\Roaming\\Ultralytics\\settings.json'\n",
    "Update Settings with 'yolo settings key=value', i.e. 'yolo settings runs_dir=path/to/dir'. For help see https://docs.ultralytics.com/quickstart/#ultralytics-settings.\n",
    "Downloading https://github.com/ultralytics/assets/releases/download/v8.3.0/yolov8n-seg.pt to 'yolov8n-seg.pt'...\n",
    "100%|█████████████████████████████████████████████████████████████████████████████| 6.74M/6.74M [00:02<00:00, 2.57MB/s]\n",
    "\n",
    "Downloading https://ultralytics.com/images/bus.jpg to 'bus.jpg'...\n",
    "100%|███████████████████████████████████████████████████████████████████████████████| 134k/134k [00:00<00:00, 2.16MB/s]\n",
    "image 1/1 C:\\Users\\madha\\iiitsrishti\\task1\\yolo8venv\\bus.jpg: 640x480 4 persons, 1 bus, 1 skateboard, 198.2ms\n",
    "Speed: 6.6ms preprocess, 198.2ms inference, 19.8ms postprocess per image at shape (1, 3, 640, 480)\n",
    "Results saved to runs\\segment\\predict\n",
    "\n",
    "(yolo8venv) C:\\Users\\madha\\iiitsrishti\\task1\\yolo8venv>notepd task.py\n",
    "'notepd' is not recognized as an internal or external command,\n",
    "operable program or batch file.\n",
    "\n",
    "(yolo8venv) C:\\Users\\madha\\iiitsrishti\\task1\\yolo8venv>"
   ]
  },
  {
   "cell_type": "markdown",
   "id": "39afa7f9",
   "metadata": {},
   "source": [
    "results saved to two places since two were true\n",
    "\n",
    "![bus.jpg](bus.jpg)"
   ]
  }
 ],
 "metadata": {},
 "nbformat": 4,
 "nbformat_minor": 5
}
